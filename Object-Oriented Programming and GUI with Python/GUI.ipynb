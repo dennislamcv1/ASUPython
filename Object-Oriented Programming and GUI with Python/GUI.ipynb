{
 "cells": [
  {
   "cell_type": "code",
   "execution_count": null,
   "id": "c6d3442c",
   "metadata": {},
   "outputs": [],
   "source": [
    "import tkinter as tk"
   ]
  },
  {
   "cell_type": "code",
   "execution_count": null,
   "id": "1b827e98",
   "metadata": {},
   "outputs": [],
   "source": [
    "root = tk.Tk()\n",
    "root.title(\"2 v 2 Game\")"
   ]
  },
  {
   "cell_type": "code",
   "execution_count": null,
   "id": "f83ebdba",
   "metadata": {},
   "outputs": [],
   "source": [
    "name_label = tk.Label(root, text=\"Enter your name:\")\n",
    "name_entry = tk.Entry(root)\n",
    "play_button = tk.Button(root, text=\"Play\", command=play_game)"
   ]
  },
  {
   "cell_type": "code",
   "execution_count": null,
   "id": "7ab579dc",
   "metadata": {},
   "outputs": [],
   "source": [
    "name_label.grid(row=0, column=0)\n",
    "name_entry.grid(row=0, column=1)\n",
    "play_button.grid(row=1, column=0, columnspan=2)"
   ]
  },
  {
   "cell_type": "code",
   "execution_count": null,
   "id": "db76a6fa",
   "metadata": {},
   "outputs": [],
   "source": [
    "play_button.bind(\"<Button-1>\", play_game)"
   ]
  },
  {
   "cell_type": "code",
   "execution_count": null,
   "id": "222fc292",
   "metadata": {},
   "outputs": [],
   "source": [
    "root.mainloop()"
   ]
  },
  {
   "cell_type": "code",
   "execution_count": null,
   "id": "7d7fa234",
   "metadata": {},
   "outputs": [],
   "source": []
  }
 ],
 "metadata": {
  "kernelspec": {
   "display_name": "Python 3 (ipykernel)",
   "language": "python",
   "name": "python3"
  },
  "language_info": {
   "codemirror_mode": {
    "name": "ipython",
    "version": 3
   },
   "file_extension": ".py",
   "mimetype": "text/x-python",
   "name": "python",
   "nbconvert_exporter": "python",
   "pygments_lexer": "ipython3",
   "version": "3.9.12"
  }
 },
 "nbformat": 4,
 "nbformat_minor": 5
}
