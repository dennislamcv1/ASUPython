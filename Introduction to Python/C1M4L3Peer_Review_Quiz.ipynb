{
 "cells": [
  {
   "cell_type": "code",
   "execution_count": null,
   "metadata": {
    "id": "pScS771in3oL"
   },
   "outputs": [],
   "source": [
    "######################################################################################################################################\n",
    "# For this quiz, write a short program that is able to compute the sum, difference, quotient, remainder, and product of two numbers. #\n",
    "# Ask the user to input two numbers and have them select an operator to choose from (+,-,*,/,%). You will need to use conditional    #\n",
    "# statements to match what arithmetic operator the user picked in order to perform the calculation. Once the user has input the two  #\n",
    "# numeric values and an arithmetic operator, perform the calculation and display the output to the screen.                           #\n",
    "######################################################################################################################################\n",
    "\n",
    "# Welcome Message\n",
    "print(\"Welcome to the basic calculator program!\")\n",
    "num1 = int(input(\"Enter a numeric value: \"))\n",
    "num2 = int(input(\"Enter another numeric value: \"))\n",
    "operator = input(\"Enter arithmetic operator to use (+,-,/,*,%): \")\n",
    "\n",
    "# Initialize result\n",
    "result = 0\n",
    "\n",
    "def add(value1, value2):\n",
    "  result = value1 + value2\n",
    "  print(\"The sum is:\", result)\n",
    "\n",
    "def subtract(value1, value2):\n",
    "  result = value1 - value2\n",
    "  print(\"The difference is:\", result)\n",
    "\n",
    "def divide(value1, value2):\n",
    "  result = value1 / value2\n",
    "  print(\"The quotient is:\", result)\n",
    "\n",
    "def multiply(value1, value2):\n",
    "  result = value1 * value2\n",
    "  print(\"The product is:\", result)\n",
    "\n",
    "def remainder(value1, value2):\n",
    "  result = value1 % value2\n",
    "  print(\"The remainder is:\", result)\n",
    "\n",
    "if operator == \"+\":\n",
    "  add(num1, num2)\n",
    "\n",
    "elif operator == \"-\":\n",
    "  subtract(num1, num2)\n",
    "\n",
    "elif operator == \"/\":\n",
    "  divide(num1, num2)\n",
    "\n",
    "elif operator == \"*\":\n",
    "  multiply(num1, num2)\n",
    "\n",
    "elif operator == \"%\":\n",
    "  remainder(num1, num2)\n",
    "\n",
    "else:\n",
    "  print(\"ERROR: Enter valid arithmetic operator...\")"
   ]
  },
  {
   "cell_type": "code",
   "execution_count": null,
   "metadata": {},
   "outputs": [],
   "source": []
  }
 ],
 "metadata": {
  "colab": {
   "provenance": []
  },
  "kernelspec": {
   "display_name": "Python 3 (ipykernel)",
   "language": "python",
   "name": "python3"
  },
  "language_info": {
   "codemirror_mode": {
    "name": "ipython",
    "version": 3
   },
   "file_extension": ".py",
   "mimetype": "text/x-python",
   "name": "python",
   "nbconvert_exporter": "python",
   "pygments_lexer": "ipython3",
   "version": "3.9.12"
  }
 },
 "nbformat": 4,
 "nbformat_minor": 1
}
