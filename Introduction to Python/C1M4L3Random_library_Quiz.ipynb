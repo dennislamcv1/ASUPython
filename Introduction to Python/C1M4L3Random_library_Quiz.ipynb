{
  "nbformat": 4,
  "nbformat_minor": 0,
  "metadata": {
    "colab": {
      "provenance": []
    },
    "kernelspec": {
      "name": "python3",
      "display_name": "Python 3"
    },
    "language_info": {
      "name": "python"
    }
  },
  "cells": [
    {
      "cell_type": "code",
      "execution_count": null,
      "metadata": {
        "colab": {
          "base_uri": "https://localhost:8080/"
        },
        "id": "oaM4dGMVmZzm",
        "outputId": "0a00eae2-038b-4d16-9e1b-6cf8f79a6761"
      },
      "outputs": [
        {
          "output_type": "stream",
          "name": "stdout",
          "text": [
            "[3, 8, 19, 1, 9, 12, 7, 18, 2, 5]\n"
          ]
        }
      ],
      "source": [
        "# Create a program that generates ten random integer values. Display these ten generated numbers to the screen\n",
        "import random\n",
        "\n",
        "random_list = []\n",
        "for i in range(0, 10):\n",
        "  random_number = random.randint(1, 20)\n",
        "  random_list.append(random_number)\n",
        "print(random_list)"
      ]
    }
  ]
}