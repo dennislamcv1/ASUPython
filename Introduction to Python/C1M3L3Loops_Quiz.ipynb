{
  "nbformat": 4,
  "nbformat_minor": 0,
  "metadata": {
    "colab": {
      "provenance": []
    },
    "kernelspec": {
      "name": "python3",
      "display_name": "Python 3"
    },
    "language_info": {
      "name": "python"
    }
  },
  "cells": [
    {
      "cell_type": "code",
      "execution_count": null,
      "metadata": {
        "colab": {
          "base_uri": "https://localhost:8080/"
        },
        "id": "yHsiZP3mBmZM",
        "outputId": "189271e8-61d1-48a3-de39-a582424c46db"
      },
      "outputs": [
        {
          "output_type": "stream",
          "name": "stdout",
          "text": [
            "Welcome to the Lock System!\n",
            "Please enter your username and password to login to the system.\n",
            "\n",
            "Enter Username: python_student\n",
            "Enter Password: Learning101!\n",
            "LOGGING INTO ACCOUNT...\n"
          ]
        }
      ],
      "source": [
        "##################################################################################################################################################\n",
        "# Write a short program that simulates a lock system. A user should be able to enter the correct username and password when prompted to do so.   #\n",
        "# The user gets three tries to enter the correct username and password. If the user does not enter the correct username and password in those    #\n",
        "# three login attempts, display to the screen “LOGIN ATTEMPT FAILED: ACCOUNT IS NOW LOCKED.” If the user is able to enter the correct username   #\n",
        "# and password, display to the screen “LOGGING INTO ACCOUNT…”                                                                                    #\n",
        "##################################################################################################################################################\n",
        "\n",
        "# Initialize the number of user entries\n",
        "number_of_tries = 0\n",
        "set_user_name = \"python_student\"\n",
        "set_user_password = \"Learning101!\"\n",
        "\n",
        "# Welcome Message\n",
        "print(\"Welcome to the Lock System!\")\n",
        "print(\"Please enter your username and password to login to the system.\\n\")\n",
        "\n",
        "while number_of_tries < 3:\n",
        "   # Enter username and password\n",
        "   user_name = input(\"Enter Username: \")\n",
        "   user_password = input(\"Enter Password: \")\n",
        "   number_of_tries += 1\n",
        "\n",
        "   if ((user_name == set_user_name) and (user_password == set_user_password)):\n",
        "     print(\"LOGGING INTO ACCOUNT...\")\n",
        "     break\n",
        "   else:\n",
        "     print(\"Incorrect username or password.\\n\")\n",
        "\n",
        "else:\n",
        "  print(\"LOGIN ATTEMPT FAILED. ACCOUNT IS NOW LOCKED.\")"
      ]
    }
  ]
}