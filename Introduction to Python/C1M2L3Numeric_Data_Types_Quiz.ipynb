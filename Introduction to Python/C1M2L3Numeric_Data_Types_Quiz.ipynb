{
  "nbformat": 4,
  "nbformat_minor": 0,
  "metadata": {
    "colab": {
      "provenance": []
    },
    "kernelspec": {
      "name": "python3",
      "display_name": "Python 3"
    },
    "language_info": {
      "name": "python"
    }
  },
  "cells": [
    {
      "cell_type": "code",
      "execution_count": null,
      "metadata": {
        "colab": {
          "base_uri": "https://localhost:8080/"
        },
        "id": "4mhQ-mTXyIQk",
        "outputId": "18b5c637-8603-47ba-c413-fd10d217d4c8"
      },
      "outputs": [
        {
          "output_type": "stream",
          "name": "stdout",
          "text": [
            "Welcome to the numeric value program!\n",
            "Enter an integer value: 12\n",
            "Enter a float value: 3.14\n",
            "Enter a complex value: 1+2j\n",
            "Enter an string value: adwith\n",
            "Enter a small float value: 1e-7\n",
            "Enter a large float value: 2e22\n",
            "\n",
            "Integer value is: 12\n",
            "Float value is: 3.14\n",
            "Complex value is: (1+2j)\n",
            "String value is: adwith\n",
            "Small float value is: 1e-07\n",
            "Large float value is: 2e+22\n"
          ]
        }
      ],
      "source": [
        "###############################################################################################################\n",
        "# For this quiz, create a simple program that is able to display numeric values to the screen.                #\n",
        "# The program should pass user input to variables and should output what the values are in those variables.   #\n",
        "###############################################################################################################\n",
        "\n",
        "print(\"Welcome to the numeric value program!\")\n",
        "integer_value = int(input(\"Enter an integer value: \"))\n",
        "float_value = float(input(\"Enter a float value: \"))\n",
        "complex_value = complex(input(\"Enter a complex value: \"))\n",
        "string_value = input(\"Enter an string value: \")\n",
        "small_float_value = float(input(\"Enter a small float value: \"))\n",
        "large_float_value = float(input(\"Enter a large float value: \"))\n",
        "\n",
        "# NOTE: Make sure to enter a complex number without any spaces as input. Otherwise, you will get a value error.\n",
        "\n",
        "print(\"\\nInteger value is:\", integer_value)\n",
        "print(\"Float value is:\", float_value)\n",
        "print(\"Complex value is:\", complex_value)\n",
        "print(\"String value is:\", string_value)\n",
        "print(\"Small float value is:\", small_float_value)\n",
        "print(\"Large float value is:\", large_float_value)"
      ]
    }
  ]
}