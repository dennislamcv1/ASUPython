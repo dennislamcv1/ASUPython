{
  "nbformat": 4,
  "nbformat_minor": 0,
  "metadata": {
    "colab": {
      "provenance": []
    },
    "kernelspec": {
      "name": "python3",
      "display_name": "Python 3"
    },
    "language_info": {
      "name": "python"
    }
  },
  "cells": [
    {
      "cell_type": "code",
      "execution_count": null,
      "metadata": {
        "colab": {
          "base_uri": "https://localhost:8080/"
        },
        "id": "bz6wGLkBwCY2",
        "outputId": "f6f0ee94-ba15-43a9-d5ef-73caabc74f48"
      },
      "outputs": [
        {
          "output_type": "stream",
          "name": "stdout",
          "text": [
            "Welcome to your personal program!\n",
            "Please enter your name: Adwith\n",
            "Please enter your age: 24\n",
            "Please enter your occupancy: SWE\n",
            "Please enter your favorite sport: Bball\n",
            "\n",
            "Your name is Adwith and you are 24 years old.\n",
            "You currently work as a SWE and your favorite sport is Bball.\n"
          ]
        }
      ],
      "source": [
        "##################################################################################################################\n",
        "# Write a program that asks a user for their name and age. The program must take in input so the user may        #\n",
        "# input their responses. Next, ask the user for their age and occupancy. Next, ask the user what their favorite  #\n",
        "# sport is. (Hint: This program should utilize input statements, print statements, and variables )               #\n",
        "##################################################################################################################\n",
        "\n",
        "print(\"Welcome to your personal program!\")\n",
        "\n",
        "# Pass in user input\n",
        "user_name = input(\"Please enter your name: \")\n",
        "user_age = input(\"Please enter your age: \")\n",
        "user_occupancy = input(\"Please enter your occupancy: \")\n",
        "user_favorite_sport = input(\"Please enter your favorite sport: \")\n",
        "\n",
        "# Display output\n",
        "print(\"\\nYour name is\", user_name, \"and you are\", user_age, \"years old.\")\n",
        "print(\"You currently work as a\", user_occupancy, \"and your favorite sport is\", user_favorite_sport + \".\")"
      ]
    }
  ]
}