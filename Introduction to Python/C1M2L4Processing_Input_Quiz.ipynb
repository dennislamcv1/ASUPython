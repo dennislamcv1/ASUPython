{
  "nbformat": 4,
  "nbformat_minor": 0,
  "metadata": {
    "colab": {
      "provenance": []
    },
    "kernelspec": {
      "name": "python3",
      "display_name": "Python 3"
    },
    "language_info": {
      "name": "python"
    }
  },
  "cells": [
    {
      "cell_type": "code",
      "execution_count": null,
      "metadata": {
        "colab": {
          "base_uri": "https://localhost:8080/"
        },
        "id": "I3RgWbtm1Od9",
        "outputId": "5300d732-a443-4043-b96f-b7e3cf0a3443"
      },
      "outputs": [
        {
          "output_type": "stream",
          "name": "stdout",
          "text": [
            "Sum is: 52\n",
            "Difference is: -20\n",
            "Product is: 26880\n",
            "Quotient is: 0.009523809523809523\n",
            "Result of order of operations: 8.375\n"
          ]
        }
      ],
      "source": [
        "###################################################################################################################################\n",
        "# Create a program that is able to compute complex arithmetic expressions. Create four variables that store numeric values.       #\n",
        "# Perform the multiplication, division, addition, and subtraction of these four numbers. Display the output to the screen.        #\n",
        "###################################################################################################################################\n",
        "\n",
        "a = 10\n",
        "b = 12\n",
        "c = 14\n",
        "d = 16\n",
        "\n",
        "sum = a + b + c + d\n",
        "difference = d - c - b - a\n",
        "product = a * b * c * d\n",
        "quotient = d / c / b / a\n",
        "\n",
        "print(\"Sum is:\", sum)\n",
        "print(\"Difference is:\", difference)\n",
        "print(\"Product is:\", product)\n",
        "print(\"Quotient is:\", quotient)\n",
        "\n",
        "# Order of Operations Example\n",
        "order_of_operations = ((a * b) + c) / d\n",
        "print(\"Result of order of operations:\", order_of_operations)"
      ]
    }
  ]
}