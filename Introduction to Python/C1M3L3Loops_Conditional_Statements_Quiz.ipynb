{
  "nbformat": 4,
  "nbformat_minor": 0,
  "metadata": {
    "colab": {
      "provenance": []
    },
    "kernelspec": {
      "name": "python3",
      "display_name": "Python 3"
    },
    "language_info": {
      "name": "python"
    }
  },
  "cells": [
    {
      "cell_type": "code",
      "execution_count": null,
      "metadata": {
        "id": "YXnKDllCIm5r"
      },
      "outputs": [],
      "source": [
        "###############################################################################\n",
        "# This program will ask the user to guess the correct password. If the user   #\n",
        "# does not enter the correct password in 3 attempts, they lose the game.      #\n",
        "###############################################################################"
      ]
    },
    {
      "cell_type": "code",
      "source": [
        "# Guessing Game\n",
        "number_of_attempts = 0\n",
        "password = 'game over'\n",
        "\n",
        "print(\"Welcome to the guessing game!\")\n",
        "\n",
        "while number_of_attempts < 3:\n",
        "  user_input = input(\"Enter guess: \")\n",
        "  number_of_attempts += 1\n",
        "  if user_input == password:\n",
        "    print(\"You win!\")\n",
        "    break\n",
        "  else:\n",
        "    print(\"Try again\")\n",
        "else:\n",
        "  print(\"You lose!\")"
      ],
      "metadata": {
        "colab": {
          "base_uri": "https://localhost:8080/"
        },
        "id": "spZvyVL6f3A1",
        "outputId": "867065cf-16c4-4eea-b08e-0e19e44a079c"
      },
      "execution_count": null,
      "outputs": [
        {
          "output_type": "stream",
          "name": "stdout",
          "text": [
            "Welcome to the guessing game!\n",
            "Enter guess: game over\n",
            "You win!\n"
          ]
        }
      ]
    }
  ]
}