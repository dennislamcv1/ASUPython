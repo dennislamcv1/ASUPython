{
  "nbformat": 4,
  "nbformat_minor": 0,
  "metadata": {
    "colab": {
      "provenance": []
    },
    "kernelspec": {
      "name": "python3",
      "display_name": "Python 3"
    },
    "language_info": {
      "name": "python"
    }
  },
  "cells": [
    {
      "cell_type": "code",
      "execution_count": null,
      "metadata": {
        "colab": {
          "base_uri": "https://localhost:8080/"
        },
        "id": "-jYB36PQ_IGf",
        "outputId": "7ea48280-c91e-4746-c9b9-8ef36e1e2002"
      },
      "outputs": [
        {
          "output_type": "stream",
          "name": "stdout",
          "text": [
            "Welcome to the basic calculator program!\n",
            "Enter a numeric value: 24\n",
            "Enter another numeric value: 2\n",
            "Enter arithmetic operator to use (+,-,/,*,%): %\n",
            "The remainder is: 0\n"
          ]
        }
      ],
      "source": [
        "######################################################################################################################################\n",
        "# For this quiz, write a short program that is able to compute the sum, difference, quotient, remainder, and product of two numbers. #\n",
        "# Ask the user to input two numbers and have them select an operator to choose from (+,-,*,/,%). You will need to use conditional    #\n",
        "# statements to match what arithmetic operator the user picked in order to perform the calculation. Once the user has input the two  #\n",
        "# numeric values and an arithmetic operator, perform the calculation and display the output to the screen.                           #\n",
        "######################################################################################################################################\n",
        "\n",
        "# Welcome Message\n",
        "print(\"Welcome to the basic calculator program!\")\n",
        "num1 = int(input(\"Enter a numeric value: \"))\n",
        "num2 = int(input(\"Enter another numeric value: \"))\n",
        "operator = input(\"Enter arithmetic operator to use (+,-,/,*,%): \")\n",
        "\n",
        "# Initialize result\n",
        "result = 0\n",
        "\n",
        "if operator == \"+\":\n",
        "  result = num1 + num2\n",
        "  print(\"The sum is:\", result)\n",
        "\n",
        "elif operator == \"-\":\n",
        "  result = num1 - num2\n",
        "  print(\"The difference is:\", result)\n",
        "\n",
        "elif operator == \"/\":\n",
        "  result = num1 / num2\n",
        "  print(\"The quotient is:\", result)\n",
        "\n",
        "elif operator == \"*\":\n",
        "  result = num1 * num2\n",
        "  print(\"The product is:\", result)\n",
        "\n",
        "elif operator == \"%\":\n",
        "  result = num1 % num2\n",
        "  print(\"The remainder is:\", result)\n",
        "\n",
        "else:\n",
        "  print(\"ERROR: Enter valid arithmetic operator...\")"
      ]
    }
  ]
}